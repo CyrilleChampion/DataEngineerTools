{
 "cells": [
  {
   "cell_type": "markdown",
   "metadata": {},
   "source": [
    "# Consignes\n",
    "\n",
    "Intégrer le fichier USvideos.csv qui représente un ensemble de 8000 vidéos Youtube. \n",
    "\n",
    "Merger le fichier US_category_id.json pour récupérer le nom des catégories. Il conviendra de bien spécifier l'ID du document.\n",
    "\n",
    "\n",
    "# Questions \n",
    "- 1) Récupérer toutes les vidéos de la chaîne Apple.\n",
    "- 2) Compter le nombre de catégories différentes\n",
    "- 3) Si vous ne l'avez pas déjà fait, découper les tags en listes et mettre à jour les tags de chacun des documents avec une requête update.\n",
    "- 4) Récupérer les vidéos les plus vues.\n",
    "- 5) Compter le nombre moyen de vues en fonction de la catégorie.\n",
    "- 6) Récupérer les chaines Youtube avec la plus grande moyenne de likes."
   ]
  },
  {
   "cell_type": "code",
   "execution_count": 1,
   "metadata": {},
   "outputs": [],
   "source": [
    "import pandas as pd\n",
    "import pymongo"
   ]
  },
  {
   "cell_type": "code",
   "execution_count": 2,
   "metadata": {},
   "outputs": [],
   "source": [
    "client = pymongo.MongoClient()\n",
    "database = client['exercices']\n",
    "collection = database['youtube']"
   ]
  },
  {
   "cell_type": "code",
   "execution_count": 3,
   "metadata": {},
   "outputs": [
    {
     "data": {
      "text/html": [
       "<div>\n",
       "<style scoped>\n",
       "    .dataframe tbody tr th:only-of-type {\n",
       "        vertical-align: middle;\n",
       "    }\n",
       "\n",
       "    .dataframe tbody tr th {\n",
       "        vertical-align: top;\n",
       "    }\n",
       "\n",
       "    .dataframe thead th {\n",
       "        text-align: right;\n",
       "    }\n",
       "</style>\n",
       "<table border=\"1\" class=\"dataframe\">\n",
       "  <thead>\n",
       "    <tr style=\"text-align: right;\">\n",
       "      <th></th>\n",
       "      <th>video_id</th>\n",
       "      <th>title</th>\n",
       "      <th>channel_title</th>\n",
       "      <th>category_id</th>\n",
       "      <th>tags</th>\n",
       "      <th>views</th>\n",
       "      <th>likes</th>\n",
       "      <th>dislikes</th>\n",
       "      <th>comment_total</th>\n",
       "      <th>thumbnail_link</th>\n",
       "      <th>date</th>\n",
       "    </tr>\n",
       "  </thead>\n",
       "  <tbody>\n",
       "    <tr>\n",
       "      <th>0</th>\n",
       "      <td>XpVt6Z1Gjjo</td>\n",
       "      <td>1 YEAR OF VLOGGING -- HOW LOGAN PAUL CHANGED Y...</td>\n",
       "      <td>Logan Paul Vlogs</td>\n",
       "      <td>24</td>\n",
       "      <td>logan paul vlog|logan paul|logan|paul|olympics...</td>\n",
       "      <td>4394029</td>\n",
       "      <td>320053</td>\n",
       "      <td>5931</td>\n",
       "      <td>46245</td>\n",
       "      <td>https://i.ytimg.com/vi/XpVt6Z1Gjjo/default.jpg</td>\n",
       "      <td>13.09</td>\n",
       "    </tr>\n",
       "    <tr>\n",
       "      <th>1</th>\n",
       "      <td>K4wEI5zhHB0</td>\n",
       "      <td>iPhone X — Introducing iPhone X — Apple</td>\n",
       "      <td>Apple</td>\n",
       "      <td>28</td>\n",
       "      <td>Apple|iPhone 10|iPhone Ten|iPhone|Portrait Lig...</td>\n",
       "      <td>7860119</td>\n",
       "      <td>185853</td>\n",
       "      <td>26679</td>\n",
       "      <td>0</td>\n",
       "      <td>https://i.ytimg.com/vi/K4wEI5zhHB0/default.jpg</td>\n",
       "      <td>13.09</td>\n",
       "    </tr>\n",
       "  </tbody>\n",
       "</table>\n",
       "</div>"
      ],
      "text/plain": [
       "      video_id                                              title  \\\n",
       "0  XpVt6Z1Gjjo  1 YEAR OF VLOGGING -- HOW LOGAN PAUL CHANGED Y...   \n",
       "1  K4wEI5zhHB0            iPhone X — Introducing iPhone X — Apple   \n",
       "\n",
       "      channel_title  category_id  \\\n",
       "0  Logan Paul Vlogs           24   \n",
       "1             Apple           28   \n",
       "\n",
       "                                                tags    views   likes  \\\n",
       "0  logan paul vlog|logan paul|logan|paul|olympics...  4394029  320053   \n",
       "1  Apple|iPhone 10|iPhone Ten|iPhone|Portrait Lig...  7860119  185853   \n",
       "\n",
       "   dislikes  comment_total                                  thumbnail_link  \\\n",
       "0      5931          46245  https://i.ytimg.com/vi/XpVt6Z1Gjjo/default.jpg   \n",
       "1     26679              0  https://i.ytimg.com/vi/K4wEI5zhHB0/default.jpg   \n",
       "\n",
       "    date  \n",
       "0  13.09  \n",
       "1  13.09  "
      ]
     },
     "execution_count": 3,
     "metadata": {},
     "output_type": "execute_result"
    }
   ],
   "source": [
    "df_youtube = pd.read_csv(\"./data/USvideos.csv\")\n",
    "df_youtube.head(2)"
   ]
  },
  {
   "cell_type": "markdown",
   "metadata": {},
   "source": [
    "## Question 0"
   ]
  },
  {
   "cell_type": "markdown",
   "metadata": {},
   "source": [
    "### Netoyer les données"
   ]
  },
  {
   "cell_type": "code",
   "execution_count": 4,
   "metadata": {},
   "outputs": [],
   "source": [
    "df_youtube['date'] = pd.to_datetime(df_youtube['date'], errors='coerce')\n",
    "df_youtube = df_youtube.dropna(subset=['date'])\n",
    "\n",
    "\n",
    "df_youtube.rename(columns={'video_id':'_id'}, inplace=True)\n",
    "\n",
    "df_youtube = df_youtube.drop_duplicates(subset='_id', keep='last')\n",
    "\n",
    "l_d =df_youtube.to_dict(orient='records')\n",
    "\n",
    "import json\n",
    "with open('./data/US_category_id.json', 'r') as f:\n",
    "    categ = json.load(f)\n",
    "\n",
    "for video in l_d:\n",
    "    for cat in categ['items']:\n",
    "        if video['category_id'] == int(cat['id']):\n",
    "            video['category_name'] = cat['snippet']['title']"
   ]
  },
  {
   "cell_type": "markdown",
   "metadata": {
    "slideshow": {
     "slide_type": "slide"
    }
   },
   "source": [
    "### Importer les données"
   ]
  },
  {
   "cell_type": "code",
   "execution_count": 151,
   "metadata": {},
   "outputs": [
    {
     "data": {
      "text/plain": [
       "<pymongo.results.InsertManyResult at 0x245298ce088>"
      ]
     },
     "execution_count": 151,
     "metadata": {},
     "output_type": "execute_result"
    }
   ],
   "source": [
    "from pymongo import MongoClient\n",
    "\n",
    "client = MongoClient(\"localhost:27017\")\n",
    "db_ytb = client.ytb\n",
    "collection_youtube = db_ytb['youtube'] \n",
    "\n",
    "collection_youtube.insert_many(l_d)"
   ]
  },
  {
   "cell_type": "markdown",
   "metadata": {},
   "source": [
    "## Question 1  "
   ]
  },
  {
   "cell_type": "code",
   "execution_count": 48,
   "metadata": {},
   "outputs": [
    {
     "name": "stdout",
     "output_type": "stream",
     "text": [
      "{'_id': 'K4wEI5zhHB0', 'title': 'iPhone X — Introducing iPhone X — Apple', 'channel_title': 'Apple', 'category_id': 28, 'tags': 'Apple|iPhone 10|iPhone Ten|iPhone|Portrait Lighting|A11 Bionic|augmented reality|emoji|animoji|Face ID|Apple Pay|camera|smartphone', 'views': 19707391, 'likes': 381919, 'dislikes': 69465, 'comment_total': 0, 'thumbnail_link': 'https://i.ytimg.com/vi/K4wEI5zhHB0/default.jpg', 'date': datetime.datetime(1970, 1, 1, 0, 0), 'category_name': 'Science & Technology'}\n",
      "{'_id': 'A9k88sMyiJM', 'title': 'Apple Watch Series 3 + Apple Music — Roll — Apple', 'channel_title': 'Apple', 'category_id': 28, 'tags': 'Apple|airpods|apple watch|apple watch series 3|apple watch cellular|apple watch 4g|apple music|40 million songs on your wrist|apple skateboard ad|apple train station ad|apple roll ad|apple watch skateboard ad|apple watch train station ad|apple watch roll ad|airpods skateboard ad|airpods train station ad|airpods roll ad|apple music skateboard ad|apple music train station ad|apple music roll ad|misbehaving', 'views': 4112187, 'likes': 26609, 'dislikes': 8982, 'comment_total': 0, 'thumbnail_link': 'https://i.ytimg.com/vi/A9k88sMyiJM/default.jpg', 'date': datetime.datetime(1970, 1, 1, 0, 0), 'category_name': 'Science & Technology'}\n",
      "{'_id': 'REZl-ANYKKY', 'title': 'iPhone 8 Plus — Portraits of Her  — Apple', 'channel_title': 'Apple', 'category_id': 28, 'tags': 'Apple|new|iPhone|iPhone 8|iPhone 8 Plus|iOS 11|4.7-inch|5.5-inch|Portrait Lighting|Shot on iPhone|camera|iphonography|smartphone|This Strange Effect|The Shacks', 'views': 183325, 'likes': 1700, 'dislikes': 570, 'comment_total': 0, 'thumbnail_link': 'https://i.ytimg.com/vi/REZl-ANYKKY/default.jpg', 'date': datetime.datetime(1970, 1, 1, 0, 0), 'category_name': 'Science & Technology'}\n"
     ]
    }
   ],
   "source": [
    "cur = collection_youtube.find({\"channel_title\":\"Apple\"})\n",
    "for video_apple in cur:\n",
    "    print(video_apple)\n",
    "    "
   ]
  },
  {
   "cell_type": "markdown",
   "metadata": {},
   "source": [
    "## Question 2"
   ]
  },
  {
   "cell_type": "code",
   "execution_count": 110,
   "metadata": {},
   "outputs": [
    {
     "name": "stdout",
     "output_type": "stream",
     "text": [
      "16 différentes catégories\n"
     ]
    }
   ],
   "source": [
    "cur = collection_youtube.distinct(\"category_name\")\n",
    "cpt = 0\n",
    "for i in cur:\n",
    "    cpt += 1\n",
    "print(str(cpt) + ' différentes catégories')"
   ]
  },
  {
   "cell_type": "markdown",
   "metadata": {},
   "source": [
    "## Question 3"
   ]
  },
  {
   "cell_type": "code",
   "execution_count": 160,
   "metadata": {},
   "outputs": [],
   "source": [
    "cur = collection_youtube.find()\n",
    "for i in list(cur):\n",
    "    #print(i['_id'])\n",
    "    tags = i['tags'].split('|')\n",
    "    result = collection_youtube.update_one({\"_id\":i['_id']}, {\"$set\":{\"tags\":tags}})\n",
    "    result"
   ]
  },
  {
   "cell_type": "markdown",
   "metadata": {},
   "source": [
    "## Question 4"
   ]
  },
  {
   "cell_type": "code",
   "execution_count": 165,
   "metadata": {},
   "outputs": [
    {
     "name": "stdout",
     "output_type": "stream",
     "text": [
      "[{'_id': 'MBdVXkSdhwU', 'title': \"BTS (방탄소년단) 'DNA' Official MV\", 'channel_title': 'ibighit', 'category_id': 10, 'tags': ['BIGHIT', '빅히트', '방탄소년단', 'BTS', 'BANGTAN', '방탄'], 'views': 41500672, 'likes': 2010366, 'dislikes': 78076, 'comment_total': 736179, 'thumbnail_link': 'https://i.ytimg.com/vi/MBdVXkSdhwU/default.jpg', 'date': datetime.datetime(1970, 1, 1, 0, 0), 'category_name': 'Music'}, {'_id': 'tt2k8PGm-TI', 'title': 'ZAYN - Dusk Till Dawn ft. Sia', 'channel_title': 'ZaynVEVO', 'category_id': 10, 'tags': ['Dusk Till Dawn', 'Pop', 'RCA Records Label', 'ZAYN feat. Sia'], 'views': 36323498, 'likes': 1431683, 'dislikes': 28049, 'comment_total': 100661, 'thumbnail_link': 'https://i.ytimg.com/vi/tt2k8PGm-TI/default.jpg', 'date': datetime.datetime(1970, 1, 1, 0, 0), 'category_name': 'Music'}, {'_id': 'LunHybOKIjU', 'title': 'Eminem Rips Donald Trump In BET Hip Hop Awards Freestyle Cypher', 'channel_title': 'BETNetworks', 'category_id': 24, 'tags': ['BET', 'BET Networks', 'BET Music', 'Black Entertainment Television', 'eminem', 'freestyle', 'full', 'hip hop awards', 'hip hop awards 2017', 'bet hip hop awards', 'donald trump', 'potus', 'full freestyle', 'EMINEM TRUMP', 'TRUMP TWITTER', 'trump tweet', 'trump nfl', 'eminem bet cypher', 'bet cypher', 'eminem freestyle', '8 mile', 'eminem new album', 'trump diss', 'eminem trump diss'], 'views': 33191594, 'likes': 982842, 'dislikes': 184310, 'comment_total': 337603, 'thumbnail_link': 'https://i.ytimg.com/vi/LunHybOKIjU/default.jpg', 'date': datetime.datetime(1970, 1, 1, 0, 0), 'category_name': 'Entertainment'}]\n"
     ]
    }
   ],
   "source": [
    "cur = collection_youtube.find().sort(\"views\",-1).limit(3)\n",
    "print(list(cur))\n",
    "    "
   ]
  },
  {
   "cell_type": "markdown",
   "metadata": {},
   "source": [
    "## Question 5"
   ]
  },
  {
   "cell_type": "code",
   "execution_count": 170,
   "metadata": {},
   "outputs": [
    {
     "data": {
      "text/plain": [
       "[{'_id': 'Education', 'averageViews': 550585.2659574468},\n",
       " {'_id': 'Music', 'averageViews': 1442240.943283582},\n",
       " {'_id': 'Film & Animation', 'averageViews': 966547.2871287129},\n",
       " {'_id': 'Autos & Vehicles', 'averageViews': 622727.8648648649},\n",
       " {'_id': 'Gaming', 'averageViews': 777213.0357142857},\n",
       " {'_id': 'Pets & Animals', 'averageViews': 633906.4210526316},\n",
       " {'_id': 'Nonprofits & Activism', 'averageViews': 681178.2},\n",
       " {'_id': 'Sports', 'averageViews': 618074.711409396},\n",
       " {'_id': 'Comedy', 'averageViews': 1317200.7289719626},\n",
       " {'_id': 'Entertainment', 'averageViews': 1059427.7735849055},\n",
       " {'_id': 'News & Politics', 'averageViews': 533575.1262626263},\n",
       " {'_id': 'Shows', 'averageViews': 8726.0},\n",
       " {'_id': 'Howto & Style', 'averageViews': 556002.6679389313},\n",
       " {'_id': 'Science & Technology', 'averageViews': 861563.6158940397},\n",
       " {'_id': 'Travel & Events', 'averageViews': 426492.22222222225},\n",
       " {'_id': 'People & Blogs', 'averageViews': 892992.28515625}]"
      ]
     },
     "execution_count": 170,
     "metadata": {},
     "output_type": "execute_result"
    }
   ],
   "source": [
    "cur = collection_youtube.aggregate([{\"$group\" : {\"_id\" : \"$category_name\", \"averageViews\" : {\"$avg\" : \"$views\"}}}])\n",
    "list(cur)\n"
   ]
  },
  {
   "cell_type": "markdown",
   "metadata": {},
   "source": [
    "## Question 6 "
   ]
  },
  {
   "cell_type": "code",
   "execution_count": 180,
   "metadata": {},
   "outputs": [
    {
     "data": {
      "text/plain": [
       "[{'_id': 'Music', 'averageLikes': 67001.50447761195},\n",
       " {'_id': 'Comedy', 'averageLikes': 55424.59813084112},\n",
       " {'_id': 'People & Blogs', 'averageLikes': 32698.49609375},\n",
       " {'_id': 'Howto & Style', 'averageLikes': 28811.125954198473},\n",
       " {'_id': 'Entertainment', 'averageLikes': 28495.008385744233},\n",
       " {'_id': 'Film & Animation', 'averageLikes': 21723.70297029703},\n",
       " {'_id': 'Gaming', 'averageLikes': 20529.89285714286},\n",
       " {'_id': 'Science & Technology', 'averageLikes': 20497.56953642384},\n",
       " {'_id': 'Education', 'averageLikes': 16498.27659574468},\n",
       " {'_id': 'Pets & Animals', 'averageLikes': 15606.631578947368},\n",
       " {'_id': 'Autos & Vehicles', 'averageLikes': 12350.648648648648},\n",
       " {'_id': 'Sports', 'averageLikes': 11476.463087248321},\n",
       " {'_id': 'Travel & Events', 'averageLikes': 11368.333333333334},\n",
       " {'_id': 'Nonprofits & Activism', 'averageLikes': 10709.0},\n",
       " {'_id': 'News & Politics', 'averageLikes': 4271.025252525253},\n",
       " {'_id': 'Shows', 'averageLikes': 114.0}]"
      ]
     },
     "execution_count": 180,
     "metadata": {},
     "output_type": "execute_result"
    }
   ],
   "source": [
    "cur = collection_youtube.aggregate([\n",
    "    {\"$group\" : {\"_id\" : \"$category_name\", \"averageLikes\" : {\"$avg\" : \"$likes\"}}},\n",
    "    {\"$sort\" : {\"averageLikes\" : -1}}])\n",
    "list(cur)"
   ]
  }
 ],
 "metadata": {
  "kernelspec": {
   "display_name": "Python 3",
   "language": "python",
   "name": "python3"
  },
  "language_info": {
   "codemirror_mode": {
    "name": "ipython",
    "version": 3
   },
   "file_extension": ".py",
   "mimetype": "text/x-python",
   "name": "python",
   "nbconvert_exporter": "python",
   "pygments_lexer": "ipython3",
   "version": "3.7.4"
  }
 },
 "nbformat": 4,
 "nbformat_minor": 2
}
